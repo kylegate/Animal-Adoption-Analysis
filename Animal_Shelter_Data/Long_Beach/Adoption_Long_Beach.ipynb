{
 "cells": [
  {
   "metadata": {},
   "cell_type": "code",
   "outputs": [],
   "execution_count": null,
   "source": "import pandas as pd",
   "id": "f29a51da55ee6527"
  },
  {
   "metadata": {},
   "cell_type": "markdown",
   "source": "## 2. Data Loading",
   "id": "f6ff996b81f822a9"
  },
  {
   "metadata": {},
   "cell_type": "markdown",
   "source": "#### 2.1 Data Collection",
   "id": "6003eb40f45450cc"
  },
  {
   "metadata": {
    "collapsed": false,
    "ExecuteTime": {
     "end_time": "2025-05-01T17:56:16.349374Z",
     "start_time": "2025-05-01T17:56:16.223410Z"
    }
   },
   "cell_type": "code",
   "source": [
    "data = pd.read_csv('data/animal-shelter-intakes-and-outcomes.csv')\n",
    "\n",
    "animal_data = data[['Animal Type', \"DOB\", 'Primary Color', 'Secondary Color', 'Sex', 'Intake Date', 'Intake Condition', 'Intake Type', 'Outcome Date',\n",
    "                    'Outcome Type']].copy()\n",
    "\n",
    "display(animal_data.head())"
   ],
   "id": "2cfc273fce9cb8de",
   "outputs": [
    {
     "data": {
      "text/plain": [
       "  Animal Type         DOB Primary Color Secondary Color      Sex Intake Date  \\\n",
       "0         DOG  2013-02-21         WHITE             NaN   Female  2023-02-20   \n",
       "1     REPTILE         NaN         BROWN           GREEN  Unknown  2023-10-03   \n",
       "2        BIRD         NaN         GREEN             RED  Unknown  2020-01-01   \n",
       "3        BIRD         NaN         WHITE            GRAY  Unknown  2020-02-02   \n",
       "4         CAT  2014-12-18         BLACK           WHITE   Female  2018-12-18   \n",
       "\n",
       "  Intake Condition Intake Type Outcome Date Outcome Type  \n",
       "0         ILL MILD       STRAY   2023-02-26   EUTHANASIA  \n",
       "1           NORMAL       STRAY   2023-10-03       RESCUE  \n",
       "2  INJURED  SEVERE    WILDLIFE   2020-01-01   EUTHANASIA  \n",
       "3       ILL SEVERE    WILDLIFE   2020-02-02     TRANSFER  \n",
       "4  INJURED  SEVERE       STRAY   2019-01-13       RESCUE  "
      ],
      "text/html": [
       "<div>\n",
       "<style scoped>\n",
       "    .dataframe tbody tr th:only-of-type {\n",
       "        vertical-align: middle;\n",
       "    }\n",
       "\n",
       "    .dataframe tbody tr th {\n",
       "        vertical-align: top;\n",
       "    }\n",
       "\n",
       "    .dataframe thead th {\n",
       "        text-align: right;\n",
       "    }\n",
       "</style>\n",
       "<table border=\"1\" class=\"dataframe\">\n",
       "  <thead>\n",
       "    <tr style=\"text-align: right;\">\n",
       "      <th></th>\n",
       "      <th>Animal Type</th>\n",
       "      <th>DOB</th>\n",
       "      <th>Primary Color</th>\n",
       "      <th>Secondary Color</th>\n",
       "      <th>Sex</th>\n",
       "      <th>Intake Date</th>\n",
       "      <th>Intake Condition</th>\n",
       "      <th>Intake Type</th>\n",
       "      <th>Outcome Date</th>\n",
       "      <th>Outcome Type</th>\n",
       "    </tr>\n",
       "  </thead>\n",
       "  <tbody>\n",
       "    <tr>\n",
       "      <th>0</th>\n",
       "      <td>DOG</td>\n",
       "      <td>2013-02-21</td>\n",
       "      <td>WHITE</td>\n",
       "      <td>NaN</td>\n",
       "      <td>Female</td>\n",
       "      <td>2023-02-20</td>\n",
       "      <td>ILL MILD</td>\n",
       "      <td>STRAY</td>\n",
       "      <td>2023-02-26</td>\n",
       "      <td>EUTHANASIA</td>\n",
       "    </tr>\n",
       "    <tr>\n",
       "      <th>1</th>\n",
       "      <td>REPTILE</td>\n",
       "      <td>NaN</td>\n",
       "      <td>BROWN</td>\n",
       "      <td>GREEN</td>\n",
       "      <td>Unknown</td>\n",
       "      <td>2023-10-03</td>\n",
       "      <td>NORMAL</td>\n",
       "      <td>STRAY</td>\n",
       "      <td>2023-10-03</td>\n",
       "      <td>RESCUE</td>\n",
       "    </tr>\n",
       "    <tr>\n",
       "      <th>2</th>\n",
       "      <td>BIRD</td>\n",
       "      <td>NaN</td>\n",
       "      <td>GREEN</td>\n",
       "      <td>RED</td>\n",
       "      <td>Unknown</td>\n",
       "      <td>2020-01-01</td>\n",
       "      <td>INJURED  SEVERE</td>\n",
       "      <td>WILDLIFE</td>\n",
       "      <td>2020-01-01</td>\n",
       "      <td>EUTHANASIA</td>\n",
       "    </tr>\n",
       "    <tr>\n",
       "      <th>3</th>\n",
       "      <td>BIRD</td>\n",
       "      <td>NaN</td>\n",
       "      <td>WHITE</td>\n",
       "      <td>GRAY</td>\n",
       "      <td>Unknown</td>\n",
       "      <td>2020-02-02</td>\n",
       "      <td>ILL SEVERE</td>\n",
       "      <td>WILDLIFE</td>\n",
       "      <td>2020-02-02</td>\n",
       "      <td>TRANSFER</td>\n",
       "    </tr>\n",
       "    <tr>\n",
       "      <th>4</th>\n",
       "      <td>CAT</td>\n",
       "      <td>2014-12-18</td>\n",
       "      <td>BLACK</td>\n",
       "      <td>WHITE</td>\n",
       "      <td>Female</td>\n",
       "      <td>2018-12-18</td>\n",
       "      <td>INJURED  SEVERE</td>\n",
       "      <td>STRAY</td>\n",
       "      <td>2019-01-13</td>\n",
       "      <td>RESCUE</td>\n",
       "    </tr>\n",
       "  </tbody>\n",
       "</table>\n",
       "</div>"
      ]
     },
     "metadata": {},
     "output_type": "display_data"
    }
   ],
   "execution_count": 100
  },
  {
   "metadata": {},
   "cell_type": "markdown",
   "source": "#### 2.1.1 Data Overview",
   "id": "e36a048c7c7e0304"
  },
  {
   "metadata": {
    "ExecuteTime": {
     "end_time": "2025-05-01T17:56:16.396533Z",
     "start_time": "2025-05-01T17:56:16.363863Z"
    }
   },
   "cell_type": "code",
   "source": [
    "print(animal_data.shape)\n",
    "print(animal_data.info())\n",
    "print(animal_data.isnull().sum())"
   ],
   "id": "f51c6254fc19feb3",
   "outputs": [
    {
     "name": "stdout",
     "output_type": "stream",
     "text": [
      "(30475, 10)\n",
      "<class 'pandas.core.frame.DataFrame'>\n",
      "RangeIndex: 30475 entries, 0 to 30474\n",
      "Data columns (total 10 columns):\n",
      " #   Column            Non-Null Count  Dtype \n",
      "---  ------            --------------  ----- \n",
      " 0   Animal Type       30475 non-null  object\n",
      " 1   DOB               26717 non-null  object\n",
      " 2   Primary Color     30475 non-null  object\n",
      " 3   Secondary Color   14587 non-null  object\n",
      " 4   Sex               30475 non-null  object\n",
      " 5   Intake Date       30475 non-null  object\n",
      " 6   Intake Condition  30475 non-null  object\n",
      " 7   Intake Type       30475 non-null  object\n",
      " 8   Outcome Date      30284 non-null  object\n",
      " 9   Outcome Type      30276 non-null  object\n",
      "dtypes: object(10)\n",
      "memory usage: 2.3+ MB\n",
      "None\n",
      "Animal Type             0\n",
      "DOB                  3758\n",
      "Primary Color           0\n",
      "Secondary Color     15888\n",
      "Sex                     0\n",
      "Intake Date             0\n",
      "Intake Condition        0\n",
      "Intake Type             0\n",
      "Outcome Date          191\n",
      "Outcome Type          199\n",
      "dtype: int64\n"
     ]
    }
   ],
   "execution_count": 101
  },
  {
   "metadata": {},
   "cell_type": "markdown",
   "source": "## 2.2 Data Cleaning",
   "id": "52f9c6f608b41bad"
  },
  {
   "metadata": {},
   "cell_type": "markdown",
   "source": "#### 2.2.1 Standardize Column Names",
   "id": "cae5d686ac125ada"
  },
  {
   "metadata": {
    "collapsed": false,
    "ExecuteTime": {
     "end_time": "2025-05-01T17:56:16.462426Z",
     "start_time": "2025-05-01T17:56:16.450668Z"
    }
   },
   "cell_type": "code",
   "source": [
    "animal_data = animal_data.rename(\n",
    "    columns={\n",
    "            \"Animal Type\": \"Animal_Type\",\n",
    "            \"DOB\" : \"DOB\",\n",
    "            \"Primary Color\" : \"Primary_Color\",\n",
    "            \"Secondary Color\" : \"Secondary_Color\",\n",
    "            \"Sex\" : \"Sex\",\n",
    "            \"Intake Date\" : \"Intake_Date\",\n",
    "            \"Intake Condition\": \"Intake_Condition\",\n",
    "            \"Intake Type\" : \"Intake_Type\",\n",
    "            \"Outcome Date\" : \"Outcome_Date\",\n",
    "            \"Outcome Type\" : \"Outcome_Type\"\n",
    "    }\n",
    ")"
   ],
   "id": "2cfb22ba1e999b24",
   "outputs": [],
   "execution_count": 102
  },
  {
   "metadata": {},
   "cell_type": "markdown",
   "source": "#### 2.2.2 Data Type Conversion",
   "id": "16bafe253748c300"
  },
  {
   "metadata": {
    "ExecuteTime": {
     "end_time": "2025-05-01T17:56:16.894852Z",
     "start_time": "2025-05-01T17:56:16.503125Z"
    }
   },
   "cell_type": "code",
   "source": [
    "animal_data = animal_data.astype(\n",
    "    {\"Animal_Type\" : \"object\",\n",
    "     \"DOB\" : \"datetime64[ns]\",\n",
    "     \"Primary_Color\" : \"category\",\n",
    "     \"Sex\" : \"category\",\n",
    "     \"Intake_Date\" : \"datetime64[ns]\",\n",
    "     \"Intake_Condition\" : \"category\",\n",
    "     \"Intake_Type\" : \"category\",\n",
    "     \"Outcome_Date\" : \"datetime64[ns]\",\n",
    "     }\n",
    ")\n",
    "\n",
    "animal_data[\"DOB\"] = pd.to_datetime(animal_data[\"DOB\"], errors='coerce')\n",
    "animal_data[\"Intake_Date\"] = pd.to_datetime(animal_data[\"Intake_Date\"], errors='coerce')\n",
    "animal_data[\"Outcome_Date\"] = pd.to_datetime(animal_data[\"Outcome_Date\"], errors='coerce')"
   ],
   "id": "dcfdb65acaaed3f1",
   "outputs": [],
   "execution_count": 103
  },
  {
   "metadata": {},
   "cell_type": "markdown",
   "source": "#### 2.2.3 Fill Null Secondary Color",
   "id": "c2be602aa199b5fa"
  },
  {
   "cell_type": "code",
   "id": "ba16a41004170ad1",
   "metadata": {
    "collapsed": false,
    "ExecuteTime": {
     "end_time": "2025-05-01T17:56:16.912712Z",
     "start_time": "2025-05-01T17:56:16.899920Z"
    }
   },
   "source": [
    "animal_data['Secondary_Color'] = animal_data['Secondary_Color'].fillna(\"None\")\n",
    "animal_data['Secondary_Color'] = animal_data['Secondary_Color'].astype('category')"
   ],
   "outputs": [],
   "execution_count": 104
  },
  {
   "metadata": {},
   "cell_type": "markdown",
   "source": "#### 2.2.4 Fill Null Outcome Type",
   "id": "d09868ec6b4c9196"
  },
  {
   "metadata": {
    "ExecuteTime": {
     "end_time": "2025-05-01T17:56:16.938039Z",
     "start_time": "2025-05-01T17:56:16.929850Z"
    }
   },
   "cell_type": "code",
   "source": [
    "animal_data['Outcome_Type'] = animal_data['Outcome_Type'].fillna(\"Unknown\")\n",
    "animal_data['Outcome_Type'] = animal_data['Outcome_Type'].astype('category')"
   ],
   "id": "f3c7d8e0332fdda",
   "outputs": [],
   "execution_count": 105
  },
  {
   "metadata": {},
   "cell_type": "markdown",
   "source": "#### 2.2.5 Calculate Intake Age",
   "id": "1625c6aabb8445ba"
  },
  {
   "metadata": {
    "ExecuteTime": {
     "end_time": "2025-05-01T17:56:16.961638Z",
     "start_time": "2025-05-01T17:56:16.956161Z"
    }
   },
   "cell_type": "code",
   "source": "animal_data['Intake_Age'] = animal_data['Intake_Date'] - animal_data['DOB']",
   "id": "fb03664aa156cffa",
   "outputs": [],
   "execution_count": 106
  },
  {
   "metadata": {},
   "cell_type": "markdown",
   "source": "#### 2.2.6 Calculate Outcome Age",
   "id": "2c78626c5e915c1b"
  },
  {
   "metadata": {
    "ExecuteTime": {
     "end_time": "2025-05-01T17:56:17.003698Z",
     "start_time": "2025-05-01T17:56:16.998660Z"
    }
   },
   "cell_type": "code",
   "source": "animal_data['Outcome_Age'] = animal_data['Outcome_Date'] - animal_data['DOB']",
   "id": "57f28334bf3e5a78",
   "outputs": [],
   "execution_count": 107
  },
  {
   "metadata": {},
   "cell_type": "markdown",
   "source": "#### 2.2.7 Calculate Days in Shelter",
   "id": "f30b2fa744552ac8"
  },
  {
   "metadata": {
    "ExecuteTime": {
     "end_time": "2025-05-01T17:56:17.038759Z",
     "start_time": "2025-05-01T17:56:17.031454Z"
    }
   },
   "cell_type": "code",
   "source": "animal_data['Time_in_Shelter_Days'] = animal_data['Outcome_Date'] - animal_data['Intake_Date']",
   "id": "66571d8ab4e9d928",
   "outputs": [],
   "execution_count": 108
  },
  {
   "metadata": {},
   "cell_type": "markdown",
   "source": "#### 2.2.8 Remove Outliers",
   "id": "bafd0c300e6c2347"
  },
  {
   "cell_type": "code",
   "id": "71a147d1a8ae50aa",
   "metadata": {
    "ExecuteTime": {
     "end_time": "2025-05-01T17:56:17.071439Z",
     "start_time": "2025-05-01T17:56:17.058766Z"
    }
   },
   "source": [
    "animal_data = animal_data[\n",
    "    (animal_data['Intake_Age'] > pd.Timedelta('0')) &\n",
    "    (animal_data['Intake_Age'] < pd.Timedelta('18000 days 00:00:00')) &\n",
    "    (animal_data['Outcome_Age'] < pd.Timedelta('18000 days 00:00:00'))\n",
    "]\n",
    "animal_data = animal_data.reset_index(drop=True)"
   ],
   "outputs": [],
   "execution_count": 109
  },
  {
   "metadata": {},
   "cell_type": "markdown",
   "source": "#### 2.2.9 Standardize Intake Age",
   "id": "2a0ffff5a0005a4b"
  },
  {
   "metadata": {
    "collapsed": false,
    "ExecuteTime": {
     "end_time": "2025-05-01T17:56:17.275935Z",
     "start_time": "2025-05-01T17:56:17.104179Z"
    }
   },
   "cell_type": "code",
   "source": [
    "animal_data['Intake_Age'] = animal_data['Intake_Age'].astype(str)\n",
    "animal_data['Intake_Age_Days'] = animal_data['Intake_Age'].str.replace(' days', '', regex=False)"
   ],
   "id": "de7c8881d7b3a434",
   "outputs": [],
   "execution_count": 110
  },
  {
   "metadata": {},
   "cell_type": "markdown",
   "source": "#### 2.2.10 Unknown Breed Feature",
   "id": "a61c05499749a1c6"
  },
  {
   "metadata": {
    "ExecuteTime": {
     "end_time": "2025-05-01T17:56:17.284733Z",
     "start_time": "2025-05-01T17:56:17.279938Z"
    }
   },
   "cell_type": "code",
   "source": "animal_data['Breed'] = 'Unknown'",
   "id": "3b437d1d47331723",
   "outputs": [],
   "execution_count": 111
  },
  {
   "metadata": {},
   "cell_type": "markdown",
   "source": "#### 2.2.11 Insert Shelter Name",
   "id": "a677d9689f372eda"
  },
  {
   "metadata": {
    "ExecuteTime": {
     "end_time": "2025-05-01T17:56:17.306011Z",
     "start_time": "2025-05-01T17:56:17.301301Z"
    }
   },
   "cell_type": "code",
   "source": "animal_data['Shelter_Name'] = 'Long Beach California Animal Shelter'",
   "id": "c869a93da7b34535",
   "outputs": [],
   "execution_count": 112
  },
  {
   "metadata": {},
   "cell_type": "markdown",
   "source": "## 2.3 Dataset Inspection & Cleaning",
   "id": "9717643d35ccb2cb"
  },
  {
   "cell_type": "code",
   "id": "5b4996f4de0a55c0",
   "metadata": {
    "collapsed": false,
    "ExecuteTime": {
     "end_time": "2025-05-01T17:56:17.339252Z",
     "start_time": "2025-05-01T17:56:17.334365Z"
    }
   },
   "source": "animal_data.shape",
   "outputs": [
    {
     "data": {
      "text/plain": [
       "(26047, 16)"
      ]
     },
     "execution_count": 113,
     "metadata": {},
     "output_type": "execute_result"
    }
   ],
   "execution_count": 113
  },
  {
   "metadata": {},
   "cell_type": "markdown",
   "source": "#### 2.3.1 Drop Duplicates",
   "id": "d3bc62dc345b5ff5"
  },
  {
   "metadata": {
    "ExecuteTime": {
     "end_time": "2025-05-01T17:56:17.459299Z",
     "start_time": "2025-05-01T17:56:17.413143Z"
    }
   },
   "cell_type": "code",
   "source": [
    "display(animal_data.duplicated().sum())\n",
    "animal_data = animal_data.drop_duplicates()"
   ],
   "id": "6887f9b53fc2d61e",
   "outputs": [
    {
     "data": {
      "text/plain": [
       "np.int64(1329)"
      ]
     },
     "metadata": {},
     "output_type": "display_data"
    }
   ],
   "execution_count": 114
  },
  {
   "metadata": {},
   "cell_type": "markdown",
   "source": "#### 2.3.2 Missing Values",
   "id": "a5fa01b70f63c585"
  },
  {
   "cell_type": "code",
   "id": "995f66b7edb3ee9f",
   "metadata": {
    "collapsed": false,
    "ExecuteTime": {
     "end_time": "2025-05-01T17:56:17.490029Z",
     "start_time": "2025-05-01T17:56:17.473255Z"
    }
   },
   "source": "animal_data.isna().sum()",
   "outputs": [
    {
     "data": {
      "text/plain": [
       "Animal_Type             0\n",
       "DOB                     0\n",
       "Primary_Color           0\n",
       "Secondary_Color         0\n",
       "Sex                     0\n",
       "Intake_Date             0\n",
       "Intake_Condition        0\n",
       "Intake_Type             0\n",
       "Outcome_Date            0\n",
       "Outcome_Type            0\n",
       "Intake_Age              0\n",
       "Outcome_Age             0\n",
       "Time_in_Shelter_Days    0\n",
       "Intake_Age_Days         0\n",
       "Breed                   0\n",
       "Shelter_Name            0\n",
       "dtype: int64"
      ]
     },
     "execution_count": 115,
     "metadata": {},
     "output_type": "execute_result"
    }
   ],
   "execution_count": 115
  },
  {
   "metadata": {},
   "cell_type": "markdown",
   "source": "## 3. Export Long Beach Animal Shelter Dataset",
   "id": "e721fb41ba054225"
  },
  {
   "cell_type": "code",
   "id": "d7a86e953374c3a4",
   "metadata": {
    "collapsed": false,
    "ExecuteTime": {
     "end_time": "2025-05-01T17:56:17.970455Z",
     "start_time": "2025-05-01T17:56:17.540066Z"
    }
   },
   "source": [
    "animal_data.to_csv('Long_Beach_Animal_Data.csv', index=False)\n",
    "animal_data.columns"
   ],
   "outputs": [
    {
     "data": {
      "text/plain": [
       "Index(['Animal_Type', 'DOB', 'Primary_Color', 'Secondary_Color', 'Sex',\n",
       "       'Intake_Date', 'Intake_Condition', 'Intake_Type', 'Outcome_Date',\n",
       "       'Outcome_Type', 'Intake_Age', 'Outcome_Age', 'Time_in_Shelter_Days',\n",
       "       'Intake_Age_Days', 'Breed', 'Shelter_Name'],\n",
       "      dtype='object')"
      ]
     },
     "execution_count": 116,
     "metadata": {},
     "output_type": "execute_result"
    }
   ],
   "execution_count": 116
  },
  {
   "metadata": {
    "ExecuteTime": {
     "end_time": "2025-05-01T17:56:18.003521Z",
     "start_time": "2025-05-01T17:56:18.000294Z"
    }
   },
   "cell_type": "code",
   "source": "",
   "id": "997c3cf79934ead2",
   "outputs": [],
   "execution_count": null
  }
 ],
 "metadata": {
  "kernelspec": {
   "display_name": "Python 3",
   "language": "python",
   "name": "python3"
  },
  "language_info": {
   "codemirror_mode": {
    "name": "ipython",
    "version": 3
   },
   "file_extension": ".py",
   "mimetype": "text/x-python",
   "name": "python",
   "nbconvert_exporter": "python",
   "pygments_lexer": "ipython3",
   "version": "3.12.0"
  }
 },
 "nbformat": 4,
 "nbformat_minor": 5
}
