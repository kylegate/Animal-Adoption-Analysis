{
 "cells": [
  {
   "metadata": {},
   "cell_type": "markdown",
   "source": "### 2 Data Loading",
   "id": "6137402e52b1fbd2"
  },
  {
   "cell_type": "code",
   "id": "initial_id",
   "metadata": {
    "collapsed": true,
    "ExecuteTime": {
     "end_time": "2025-05-01T18:03:59.469980Z",
     "start_time": "2025-05-01T18:03:59.465609Z"
    }
   },
   "source": [
    "import pandas as pd\n",
    "import seaborn as sns\n",
    "import matplotlib.pyplot as plt"
   ],
   "outputs": [],
   "execution_count": 600
  },
  {
   "metadata": {},
   "cell_type": "markdown",
   "source": "#### 2.1 Data Collection",
   "id": "87d3de0cdfc1c163"
  },
  {
   "cell_type": "code",
   "id": "e5731663938405ed",
   "metadata": {
    "collapsed": false,
    "ExecuteTime": {
     "end_time": "2025-05-01T18:03:59.633924Z",
     "start_time": "2025-05-01T18:03:59.509692Z"
    }
   },
   "source": [
    "data = pd.read_csv('data/Animal_Shelter_Intake_and_Outcome.csv')\n",
    "\n",
    "animal_data = data[['Breed', 'Color', \"Sex\", \"Date Of Birth\", \"Intake Date\", \"Outcome Date\", \"Intake Type\", \"Type\", \"Outcome Type\", \"Intake Condition\", \"Days in Shelter\"]].copy()\n",
    "\n",
    "display(animal_data.head())"
   ],
   "outputs": [
    {
     "data": {
      "text/plain": [
       "                Breed            Color       Sex Date Of Birth Intake Date  \\\n",
       "0  MALTESE/POODLE TOY            WHITE    Spayed    10/06/2014  07/05/2023   \n",
       "1         DOMESTIC SH  ORG TABBY/WHITE    Spayed    05/07/2023  05/30/2023   \n",
       "2         DOMESTIC SH  BRN TABBY/WHITE    Female    07/15/2012  07/15/2023   \n",
       "3          POODLE MIN            WHITE  Neutered           NaN  04/25/2023   \n",
       "4                 PUG             FAWN      Male    08/11/2021  08/08/2023   \n",
       "\n",
       "  Outcome Date Intake Type Type     Outcome Type Intake Condition  \\\n",
       "0   08/08/2023       STRAY  DOG         ADOPTION          UNKNOWN   \n",
       "1   08/08/2023       STRAY  CAT         ADOPTION          UNKNOWN   \n",
       "2   08/08/2023       STRAY  CAT         TRANSFER          UNKNOWN   \n",
       "3   07/19/2023       STRAY  DOG         ADOPTION          UNKNOWN   \n",
       "4   08/08/2023       STRAY  DOG  RETURN TO OWNER          HEALTHY   \n",
       "\n",
       "   Days in Shelter  \n",
       "0               34  \n",
       "1               70  \n",
       "2               24  \n",
       "3               85  \n",
       "4                0  "
      ],
      "text/html": [
       "<div>\n",
       "<style scoped>\n",
       "    .dataframe tbody tr th:only-of-type {\n",
       "        vertical-align: middle;\n",
       "    }\n",
       "\n",
       "    .dataframe tbody tr th {\n",
       "        vertical-align: top;\n",
       "    }\n",
       "\n",
       "    .dataframe thead th {\n",
       "        text-align: right;\n",
       "    }\n",
       "</style>\n",
       "<table border=\"1\" class=\"dataframe\">\n",
       "  <thead>\n",
       "    <tr style=\"text-align: right;\">\n",
       "      <th></th>\n",
       "      <th>Breed</th>\n",
       "      <th>Color</th>\n",
       "      <th>Sex</th>\n",
       "      <th>Date Of Birth</th>\n",
       "      <th>Intake Date</th>\n",
       "      <th>Outcome Date</th>\n",
       "      <th>Intake Type</th>\n",
       "      <th>Type</th>\n",
       "      <th>Outcome Type</th>\n",
       "      <th>Intake Condition</th>\n",
       "      <th>Days in Shelter</th>\n",
       "    </tr>\n",
       "  </thead>\n",
       "  <tbody>\n",
       "    <tr>\n",
       "      <th>0</th>\n",
       "      <td>MALTESE/POODLE TOY</td>\n",
       "      <td>WHITE</td>\n",
       "      <td>Spayed</td>\n",
       "      <td>10/06/2014</td>\n",
       "      <td>07/05/2023</td>\n",
       "      <td>08/08/2023</td>\n",
       "      <td>STRAY</td>\n",
       "      <td>DOG</td>\n",
       "      <td>ADOPTION</td>\n",
       "      <td>UNKNOWN</td>\n",
       "      <td>34</td>\n",
       "    </tr>\n",
       "    <tr>\n",
       "      <th>1</th>\n",
       "      <td>DOMESTIC SH</td>\n",
       "      <td>ORG TABBY/WHITE</td>\n",
       "      <td>Spayed</td>\n",
       "      <td>05/07/2023</td>\n",
       "      <td>05/30/2023</td>\n",
       "      <td>08/08/2023</td>\n",
       "      <td>STRAY</td>\n",
       "      <td>CAT</td>\n",
       "      <td>ADOPTION</td>\n",
       "      <td>UNKNOWN</td>\n",
       "      <td>70</td>\n",
       "    </tr>\n",
       "    <tr>\n",
       "      <th>2</th>\n",
       "      <td>DOMESTIC SH</td>\n",
       "      <td>BRN TABBY/WHITE</td>\n",
       "      <td>Female</td>\n",
       "      <td>07/15/2012</td>\n",
       "      <td>07/15/2023</td>\n",
       "      <td>08/08/2023</td>\n",
       "      <td>STRAY</td>\n",
       "      <td>CAT</td>\n",
       "      <td>TRANSFER</td>\n",
       "      <td>UNKNOWN</td>\n",
       "      <td>24</td>\n",
       "    </tr>\n",
       "    <tr>\n",
       "      <th>3</th>\n",
       "      <td>POODLE MIN</td>\n",
       "      <td>WHITE</td>\n",
       "      <td>Neutered</td>\n",
       "      <td>NaN</td>\n",
       "      <td>04/25/2023</td>\n",
       "      <td>07/19/2023</td>\n",
       "      <td>STRAY</td>\n",
       "      <td>DOG</td>\n",
       "      <td>ADOPTION</td>\n",
       "      <td>UNKNOWN</td>\n",
       "      <td>85</td>\n",
       "    </tr>\n",
       "    <tr>\n",
       "      <th>4</th>\n",
       "      <td>PUG</td>\n",
       "      <td>FAWN</td>\n",
       "      <td>Male</td>\n",
       "      <td>08/11/2021</td>\n",
       "      <td>08/08/2023</td>\n",
       "      <td>08/08/2023</td>\n",
       "      <td>STRAY</td>\n",
       "      <td>DOG</td>\n",
       "      <td>RETURN TO OWNER</td>\n",
       "      <td>HEALTHY</td>\n",
       "      <td>0</td>\n",
       "    </tr>\n",
       "  </tbody>\n",
       "</table>\n",
       "</div>"
      ]
     },
     "metadata": {},
     "output_type": "display_data"
    }
   ],
   "execution_count": 601
  },
  {
   "metadata": {},
   "cell_type": "markdown",
   "source": "#### 2.1.1 Data Overview",
   "id": "8bc6f4358bcfd9f4"
  },
  {
   "metadata": {
    "ExecuteTime": {
     "end_time": "2025-05-01T18:03:59.668179Z",
     "start_time": "2025-05-01T18:03:59.643024Z"
    }
   },
   "cell_type": "code",
   "source": [
    "print(animal_data.shape)\n",
    "print(animal_data.info())\n",
    "print(animal_data.isnull().sum())"
   ],
   "id": "62bd2a7812d75ecf",
   "outputs": [
    {
     "name": "stdout",
     "output_type": "stream",
     "text": [
      "(26187, 11)\n",
      "<class 'pandas.core.frame.DataFrame'>\n",
      "RangeIndex: 26187 entries, 0 to 26186\n",
      "Data columns (total 11 columns):\n",
      " #   Column            Non-Null Count  Dtype \n",
      "---  ------            --------------  ----- \n",
      " 0   Breed             26187 non-null  object\n",
      " 1   Color             26187 non-null  object\n",
      " 2   Sex               26187 non-null  object\n",
      " 3   Date Of Birth     19720 non-null  object\n",
      " 4   Intake Date       26187 non-null  object\n",
      " 5   Outcome Date      25949 non-null  object\n",
      " 6   Intake Type       26187 non-null  object\n",
      " 7   Type              26187 non-null  object\n",
      " 8   Outcome Type      25943 non-null  object\n",
      " 9   Intake Condition  26187 non-null  object\n",
      " 10  Days in Shelter   26187 non-null  int64 \n",
      "dtypes: int64(1), object(10)\n",
      "memory usage: 2.2+ MB\n",
      "None\n",
      "Breed                  0\n",
      "Color                  0\n",
      "Sex                    0\n",
      "Date Of Birth       6467\n",
      "Intake Date            0\n",
      "Outcome Date         238\n",
      "Intake Type            0\n",
      "Type                   0\n",
      "Outcome Type         244\n",
      "Intake Condition       0\n",
      "Days in Shelter        0\n",
      "dtype: int64\n"
     ]
    }
   ],
   "execution_count": 602
  },
  {
   "metadata": {},
   "cell_type": "markdown",
   "source": "## 2.2 Data Cleaning",
   "id": "97a7b8302af6cb3e"
  },
  {
   "metadata": {},
   "cell_type": "markdown",
   "source": "#### 2.2.1 Standardize Column Names",
   "id": "e333fdc137246d6"
  },
  {
   "metadata": {
    "ExecuteTime": {
     "end_time": "2025-05-01T18:03:59.754792Z",
     "start_time": "2025-05-01T18:03:59.744462Z"
    }
   },
   "cell_type": "code",
   "source": [
    "animal_data = animal_data.rename(\n",
    "    columns={\n",
    "    \"Breed\" : \"Breed\",\n",
    "    \"Color\" : \"Color\",\n",
    "    \"Sex\" : \"Sex\",\n",
    "    \"Date Of Birth\" : \"DOB\",\n",
    "    \"Intake Date\" : 'Intake_Date',\n",
    "    \"Outcome Date\" : 'Outcome_Date',\n",
    "    \"Intake Type\" : \"Intake_Type\",\n",
    "    \"Outcome Type\" : \"Outcome_Type\",\n",
    "    \"Intake Condition\" : \"Intake_Condition\",\n",
    "    \"Days in Shelter\" : \"Time_in_Shelter_Days\",\n",
    "    \"Type\": \"Animal_Type\"\n",
    "})"
   ],
   "id": "a7a10a08c7e4ac10",
   "outputs": [],
   "execution_count": 603
  },
  {
   "metadata": {},
   "cell_type": "markdown",
   "source": "#### 2.2.2 Data Type Conversion",
   "id": "1e7d5870a7e377af"
  },
  {
   "cell_type": "code",
   "id": "f7326f3b0eadc479",
   "metadata": {
    "collapsed": false,
    "ExecuteTime": {
     "end_time": "2025-05-01T18:03:59.850327Z",
     "start_time": "2025-05-01T18:03:59.800743Z"
    }
   },
   "source": [
    "animal_data = animal_data.astype({\n",
    "    \"Breed\" : \"object\",\n",
    "    \"Color\" : \"category\",\n",
    "    \"Sex\" : \"category\",\n",
    "    \"Intake_Type\" : \"category\",\n",
    "    \"Intake_Condition\" : \"category\",\n",
    "})\n",
    "\n",
    "animal_data['DOB'] = pd.to_datetime(animal_data[\"DOB\"], errors='coerce')\n",
    "animal_data['Intake_Date'] = pd.to_datetime(animal_data[\"Intake_Date\"], errors='coerce')\n",
    "animal_data['Outcome_Date'] = pd.to_datetime(animal_data[\"Outcome_Date\"], errors='coerce')\n",
    "\n",
    "animal_data.dtypes"
   ],
   "outputs": [
    {
     "data": {
      "text/plain": [
       "Breed                           object\n",
       "Color                         category\n",
       "Sex                           category\n",
       "DOB                     datetime64[ns]\n",
       "Intake_Date             datetime64[ns]\n",
       "Outcome_Date            datetime64[ns]\n",
       "Intake_Type                   category\n",
       "Animal_Type                     object\n",
       "Outcome_Type                    object\n",
       "Intake_Condition              category\n",
       "Time_in_Shelter_Days             int64\n",
       "dtype: object"
      ]
     },
     "execution_count": 604,
     "metadata": {},
     "output_type": "execute_result"
    }
   ],
   "execution_count": 604
  },
  {
   "metadata": {},
   "cell_type": "markdown",
   "source": "#### 2.2.4 Split & Standardize Color",
   "id": "7e95125e8a2ea374"
  },
  {
   "cell_type": "code",
   "id": "a807770cc3ae0881",
   "metadata": {
    "collapsed": false,
    "ExecuteTime": {
     "end_time": "2025-05-01T18:04:00.228453Z",
     "start_time": "2025-05-01T18:03:59.905136Z"
    }
   },
   "source": [
    "animal_data['Color'] = animal_data['Color'].str.lower()\n",
    "animal_data[['Primary_Color', 'Secondary_Color']] = animal_data['Color'].str.split('/', n=1, expand=True)\n",
    "\n",
    "animal_data['Secondary_Color'] = animal_data['Secondary_Color'].fillna(\"none\")\n",
    "\n",
    "animal_data['Primary_Color'].astype('category')\n",
    "animal_data['Secondary_Color'].astype('category')\n",
    "\n",
    "print(dict(animal_data['Primary_Color'].value_counts()))\n",
    "print(animal_data['Secondary_Color'].value_counts())"
   ],
   "outputs": [
    {
     "name": "stdout",
     "output_type": "stream",
     "text": [
      "{'black': np.int64(7179), 'white': np.int64(3444), 'brown': np.int64(2469), 'brn tabby': np.int64(2148), 'tan': np.int64(2105), 'gray': np.int64(1536), 'tricolor': np.int64(768), 'gray tabby': np.int64(677), 'br brindle': np.int64(627), 'red': np.int64(608), 'org tabby': np.int64(558), 'blue': np.int64(478), 'tortie': np.int64(386), 'yellow': np.int64(312), 'calico': np.int64(294), 'fawn': np.int64(234), 'cream': np.int64(200), 'orange': np.int64(200), 'lynx pt': np.int64(196), 'seal pt': np.int64(193), 'buff': np.int64(175), 'chocolate': np.int64(170), 'agouti': np.int64(168), 'blue cream': np.int64(135), 'gold': np.int64(125), 'bl brindle': np.int64(109), 'blue merle': np.int64(96), 'blk tabby': np.int64(93), 'flame pt': np.int64(50), 'pink': np.int64(42), 'lilac pt': np.int64(34), 'blue pt': np.int64(34), 'silver': np.int64(33), 'blk smoke': np.int64(33), 'liver': np.int64(28), 'green': np.int64(28), 'brn merle': np.int64(27), 'slvr tabby': np.int64(23), 'apricot': np.int64(23), 'tortie pt': np.int64(19), 'unknown': np.int64(19), 'red merle': np.int64(17), 'gray tiger': np.int64(17), 'blue tick': np.int64(14), 'sable': np.int64(12), 'choc pt': np.int64(8), 'brn tiger': np.int64(8), 'red tick': np.int64(7), 'calico pt': np.int64(6), 'y brindle': np.int64(5), 'crm tabby': np.int64(3), 'blue tiger': np.int64(2), 'liver tick': np.int64(2), 'org tiger': np.int64(2), 'blk tiger': np.int64(2), 'purple': np.int64(1), 'blonde': np.int64(1), 'blue tabby': np.int64(1), 'slvr tiger': np.int64(1), 'sl lynx pt': np.int64(1), 'ruddy': np.int64(1)}\n",
      "Secondary_Color\n",
      "none          13113\n",
      "white          7614\n",
      "black          1657\n",
      "tan            1604\n",
      "brown          1013\n",
      "gray            382\n",
      "brn tabby       128\n",
      "red             113\n",
      "tortie          108\n",
      "br brindle       84\n",
      "calico           40\n",
      "blue             38\n",
      "tricolor         36\n",
      "yellow           31\n",
      "fawn             27\n",
      "orange           19\n",
      "cream            18\n",
      "bl brindle       16\n",
      "blue cream       15\n",
      "green            14\n",
      "org tabby        13\n",
      "silver           13\n",
      "blue merle       13\n",
      "gold             12\n",
      "gray tabby        9\n",
      "liver             9\n",
      "buff              6\n",
      "blk tabby         5\n",
      "red merle         4\n",
      "apricot           4\n",
      "purple            3\n",
      "blue tick         3\n",
      "chocolate         3\n",
      "seal pt           3\n",
      "red tick          2\n",
      "sable             2\n",
      "blk smoke         2\n",
      "blue tabby        2\n",
      "y brindle         2\n",
      "brn merle         1\n",
      "liver tick        1\n",
      "pink              1\n",
      "gray tiger        1\n",
      "blue pt           1\n",
      "lilac pt          1\n",
      "slvr tabby        1\n",
      "Name: count, dtype: int64\n"
     ]
    }
   ],
   "execution_count": 605
  },
  {
   "metadata": {},
   "cell_type": "markdown",
   "source": "#### 2.2.5 Fill Outcome Types",
   "id": "912a7bb2837d33ba"
  },
  {
   "metadata": {
    "ExecuteTime": {
     "end_time": "2025-05-01T18:04:00.278874Z",
     "start_time": "2025-05-01T18:04:00.261867Z"
    }
   },
   "cell_type": "code",
   "source": [
    "animal_data['Outcome_Type'] = animal_data['Outcome_Type'].fillna('Not Available')\n",
    "animal_data['Outcome_Type'] = animal_data['Outcome_Type'].str.lower()\n",
    "animal_data['Outcome_Type'] = animal_data['Outcome_Type'].astype('category')\n",
    "\n",
    "animal_data['Outcome_Type'].value_counts()"
   ],
   "id": "df71cdd0fc1f3658",
   "outputs": [
    {
     "data": {
      "text/plain": [
       "Outcome_Type\n",
       "return to owner    8715\n",
       "adoption           7645\n",
       "transfer           5515\n",
       "euthanize          3588\n",
       "not available       244\n",
       "disposal            236\n",
       "died                176\n",
       "rtos                 51\n",
       "escaped/stolen       17\n",
       "Name: count, dtype: int64"
      ]
     },
     "execution_count": 606,
     "metadata": {},
     "output_type": "execute_result"
    }
   ],
   "execution_count": 606
  },
  {
   "metadata": {},
   "cell_type": "markdown",
   "source": "#### 2.2.7 Create Outcome Age",
   "id": "e3ca8f8bdb1301eb"
  },
  {
   "metadata": {
    "ExecuteTime": {
     "end_time": "2025-05-01T18:04:00.322841Z",
     "start_time": "2025-05-01T18:04:00.317903Z"
    }
   },
   "cell_type": "code",
   "source": [
    "animal_data['Outcome_Age'] = animal_data['Outcome_Date'] - animal_data['DOB']\n",
    "animal_data['Outcome_Age'] = animal_data['Outcome_Age'].astype(str).str.replace(' days', '', regex=False)"
   ],
   "id": "ff9b65e9e30419a9",
   "outputs": [],
   "execution_count": 607
  },
  {
   "metadata": {},
   "cell_type": "markdown",
   "source": "#### 2.2.8 Insert Shelter Name",
   "id": "7d63ce8f39c476e2"
  },
  {
   "metadata": {
    "ExecuteTime": {
     "end_time": "2025-05-01T18:04:00.716741Z",
     "start_time": "2025-05-01T18:04:00.712371Z"
    }
   },
   "cell_type": "code",
   "source": "animal_data['Shelter_Name'] = 'Sonoma County Animal Shelter'",
   "id": "34a560d80a6c9992",
   "outputs": [],
   "execution_count": 611
  },
  {
   "metadata": {},
   "cell_type": "markdown",
   "source": "#### 2.2.9 Drop Columns",
   "id": "7970b21e7b52949e"
  },
  {
   "metadata": {
    "ExecuteTime": {
     "end_time": "2025-05-01T18:04:00.771809Z",
     "start_time": "2025-05-01T18:04:00.759169Z"
    }
   },
   "cell_type": "code",
   "source": "animal_data.drop(columns=['Color'],inplace=True)",
   "id": "e0465d395d3033b8",
   "outputs": [],
   "execution_count": 612
  },
  {
   "metadata": {},
   "cell_type": "markdown",
   "source": "## 2.3 Data Inspection & Cleaning",
   "id": "13c35bc33886301e"
  },
  {
   "metadata": {
    "ExecuteTime": {
     "end_time": "2025-05-01T18:04:00.826861Z",
     "start_time": "2025-05-01T18:04:00.821825Z"
    }
   },
   "cell_type": "code",
   "source": "animal_data.shape",
   "id": "14d9e21ec5ad8378",
   "outputs": [
    {
     "data": {
      "text/plain": [
       "(26187, 14)"
      ]
     },
     "execution_count": 613,
     "metadata": {},
     "output_type": "execute_result"
    }
   ],
   "execution_count": 613
  },
  {
   "metadata": {},
   "cell_type": "markdown",
   "source": "#### 2.3.1 Remove Duplicated Values",
   "id": "77338258a7bf19d4"
  },
  {
   "metadata": {
    "ExecuteTime": {
     "end_time": "2025-05-01T18:04:00.936946Z",
     "start_time": "2025-05-01T18:04:00.876260Z"
    }
   },
   "cell_type": "code",
   "source": [
    "print(f\"Duplicated Values: {animal_data.duplicated().sum()}\")\n",
    "animal_data = animal_data.drop_duplicates()"
   ],
   "id": "44e4078b5aa55ad1",
   "outputs": [
    {
     "name": "stdout",
     "output_type": "stream",
     "text": [
      "Duplicated Values: 1312\n"
     ]
    }
   ],
   "execution_count": 614
  },
  {
   "metadata": {},
   "cell_type": "markdown",
   "source": "#### 2.3.2 Null / Missing Values",
   "id": "a139a54e564d0f0f"
  },
  {
   "cell_type": "code",
   "id": "b53ca70af2e7d69d",
   "metadata": {
    "collapsed": false,
    "ExecuteTime": {
     "end_time": "2025-05-01T18:04:01.010695Z",
     "start_time": "2025-05-01T18:04:00.990907Z"
    }
   },
   "source": "animal_data.isna().sum()",
   "outputs": [
    {
     "data": {
      "text/plain": [
       "Breed                      0\n",
       "Sex                        0\n",
       "DOB                     5796\n",
       "Intake_Date                0\n",
       "Outcome_Date             214\n",
       "Intake_Type                0\n",
       "Animal_Type                0\n",
       "Outcome_Type               0\n",
       "Intake_Condition           0\n",
       "Time_in_Shelter_Days       0\n",
       "Primary_Color              0\n",
       "Secondary_Color            0\n",
       "Outcome_Age                0\n",
       "Shelter_Name               0\n",
       "dtype: int64"
      ]
     },
     "execution_count": 615,
     "metadata": {},
     "output_type": "execute_result"
    }
   ],
   "execution_count": 615
  },
  {
   "metadata": {},
   "cell_type": "markdown",
   "source": "#### 2.3.3 Placeholder DOB",
   "id": "a3ec831a4f7810ed"
  },
  {
   "metadata": {
    "ExecuteTime": {
     "end_time": "2025-05-01T18:04:01.744063Z",
     "start_time": "2025-05-01T18:04:01.737571Z"
    }
   },
   "cell_type": "code",
   "source": "animal_data['DOB'] = animal_data['DOB'].fillna('1900-01-01 00:00:00')",
   "id": "c29bc3094746e51",
   "outputs": [],
   "execution_count": 619
  },
  {
   "metadata": {},
   "cell_type": "markdown",
   "source": "#### 2.3.5 Create Intake Age",
   "id": "e1df18560b4584d"
  },
  {
   "metadata": {
    "ExecuteTime": {
     "end_time": "2025-05-01T18:04:01.782898Z",
     "start_time": "2025-05-01T18:04:01.777500Z"
    }
   },
   "cell_type": "code",
   "source": "animal_data['Intake_Age'] = (animal_data['Intake_Date'] - animal_data['DOB']).dt.days",
   "id": "c0b976fb3933a16d",
   "outputs": [],
   "execution_count": 620
  },
  {
   "metadata": {},
   "cell_type": "markdown",
   "source": "#### 2.3.5 Impute Outcome Age (Days)",
   "id": "d9427e26ace9d769"
  },
  {
   "metadata": {
    "ExecuteTime": {
     "end_time": "2025-05-01T18:04:01.814382Z",
     "start_time": "2025-05-01T18:04:01.804956Z"
    }
   },
   "cell_type": "code",
   "source": "animal_data['Outcome_Age'] = animal_data['Outcome_Age'].fillna(animal_data['Intake_Age'] + animal_data['Time_in_Shelter_Days'])",
   "id": "dc7a254ff386eaab",
   "outputs": [],
   "execution_count": 621
  },
  {
   "metadata": {},
   "cell_type": "markdown",
   "source": "#### 2.3.6 Placeholder Outcome Date",
   "id": "5de71022fa1242f4"
  },
  {
   "metadata": {
    "ExecuteTime": {
     "end_time": "2025-05-01T18:04:01.868963Z",
     "start_time": "2025-05-01T18:04:01.863183Z"
    }
   },
   "cell_type": "code",
   "source": "animal_data['Outcome_Date'] = animal_data['Outcome_Date'].fillna('2100-01-01 00:00:00')",
   "id": "41e2144c357d7f17",
   "outputs": [],
   "execution_count": 622
  },
  {
   "metadata": {},
   "cell_type": "markdown",
   "source": "#### 2.3.7 Final Shape",
   "id": "39c11d5a4e2e6477"
  },
  {
   "metadata": {
    "ExecuteTime": {
     "end_time": "2025-05-01T18:04:01.953848Z",
     "start_time": "2025-05-01T18:04:01.926957Z"
    }
   },
   "cell_type": "code",
   "source": [
    "print(animal_data.shape)\n",
    "animal_data = animal_data.reset_index(drop=True)\n",
    "animal_data.isna().sum()"
   ],
   "id": "4b5e6e16320ad197",
   "outputs": [
    {
     "name": "stdout",
     "output_type": "stream",
     "text": [
      "(24875, 15)\n"
     ]
    },
    {
     "data": {
      "text/plain": [
       "Breed                   0\n",
       "Sex                     0\n",
       "DOB                     0\n",
       "Intake_Date             0\n",
       "Outcome_Date            0\n",
       "Intake_Type             0\n",
       "Animal_Type             0\n",
       "Outcome_Type            0\n",
       "Intake_Condition        0\n",
       "Time_in_Shelter_Days    0\n",
       "Primary_Color           0\n",
       "Secondary_Color         0\n",
       "Outcome_Age             0\n",
       "Shelter_Name            0\n",
       "Intake_Age              0\n",
       "dtype: int64"
      ]
     },
     "execution_count": 623,
     "metadata": {},
     "output_type": "execute_result"
    }
   ],
   "execution_count": 623
  },
  {
   "metadata": {},
   "cell_type": "markdown",
   "source": "# 3. Export Sonoma Animal Shelter Data",
   "id": "91f4a84842a46bc5"
  },
  {
   "cell_type": "code",
   "id": "adef33f20e4b30ab",
   "metadata": {
    "collapsed": false,
    "ExecuteTime": {
     "end_time": "2025-05-01T18:04:02.302321Z",
     "start_time": "2025-05-01T18:04:02.136737Z"
    }
   },
   "source": [
    "animal_data.to_csv('Sonoma_Animal_Data.csv', index=False)\n",
    "animal_data.columns"
   ],
   "outputs": [
    {
     "data": {
      "text/plain": [
       "Index(['Breed', 'Sex', 'DOB', 'Intake_Date', 'Outcome_Date', 'Intake_Type',\n",
       "       'Animal_Type', 'Outcome_Type', 'Intake_Condition',\n",
       "       'Time_in_Shelter_Days', 'Primary_Color', 'Secondary_Color',\n",
       "       'Outcome_Age', 'Shelter_Name', 'Intake_Age'],\n",
       "      dtype='object')"
      ]
     },
     "execution_count": 625,
     "metadata": {},
     "output_type": "execute_result"
    }
   ],
   "execution_count": 625
  }
 ],
 "metadata": {
  "kernelspec": {
   "display_name": "Python 3",
   "language": "python",
   "name": "python3"
  },
  "language_info": {
   "codemirror_mode": {
    "name": "ipython",
    "version": 3
   },
   "file_extension": ".py",
   "mimetype": "text/x-python",
   "name": "python",
   "nbconvert_exporter": "python",
   "pygments_lexer": "ipython3",
   "version": "3.12.0"
  }
 },
 "nbformat": 4,
 "nbformat_minor": 5
}
